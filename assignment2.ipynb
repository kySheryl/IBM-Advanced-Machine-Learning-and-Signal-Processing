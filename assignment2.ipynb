{
    "cells": [
        {
            "cell_type": "code",
            "execution_count": 1,
            "metadata": {},
            "outputs": [],
            "source": "from IPython.display import Markdown, display\ndef printmd(string):\n    display(Markdown('# <span style=\"color:red\">'+string+'</span>'))\n\n\nif ('sc' in locals() or 'sc' in globals()):\n    printmd('<<<<<!!!!! It seems that you are running in a IBM Watson Studio Apache Spark Notebook. Please run it in an IBM Watson Studio Default Runtime (without Apache Spark) !!!!!>>>>>')"
        },
        {
            "cell_type": "code",
            "execution_count": 2,
            "metadata": {},
            "outputs": [
                {
                    "name": "stdout",
                    "output_type": "stream",
                    "text": "Collecting pyspark==2.4.5\n\u001b[?25l  Downloading https://files.pythonhosted.org/packages/9a/5a/271c416c1c2185b6cb0151b29a91fff6fcaed80173c8584ff6d20e46b465/pyspark-2.4.5.tar.gz (217.8MB)\n\u001b[K     |\u2588\u2588\u2588\u2588\u2588\u2588\u2588\u2588\u2588\u2588\u2588\u2588\u2588\u2588\u2588\u2588\u2588\u2588\u2588\u2588\u2588\u2588\u2588\u2588\u2588\u2588\u2588\u2588\u2588\u2588\u2588\u2588| 217.8MB 145kB/s eta 0:00:011    |\u2588\u2588\u2588\u2588\u2588\u258b                          | 38.1MB 28.4MB/s eta 0:00:07    |\u2588\u2588\u2588\u2588\u2588\u2588\u2588\u2588\u2588\u2588\u2588\u2588                    | 81.4MB 42.3MB/s eta 0:00:04     |\u2588\u2588\u2588\u2588\u2588\u2588\u2588\u2588\u2588\u2588\u2588\u2588\u2588\u2588\u2588\u2588\u258f               | 109.8MB 37.2MB/s eta 0:00:03\ufffd\ufffd\u2588\u2589              | 121.6MB 29.2MB/s eta 0:00:04     |\u2588\u2588\u2588\u2588\u2588\u2588\u2588\u2588\u2588\u2588\u2588\u2588\u2588\u2588\u2588\u2588\u2588\u2588\u2588\u2588\u2588\u2588\u2588\u258c        | 160.2MB 27.0MB/s eta 0:00:03     |\u2588\u2588\u2588\u2588\u2588\u2588\u2588\u2588\u2588\u2588\u2588\u2588\u2588\u2588\u2588\u2588\u2588\u2588\u2588\u2588\u2588\u2588\u2588\u2588\u2588\u258b      | 174.3MB 26.0MB/s eta 0:00:02     |\u2588\u2588\u2588\u2588\u2588\u2588\u2588\u2588\u2588\u2588\u2588\u2588\u2588\u2588\u2588\u2588\u2588\u2588\u2588\u2588\u2588\u2588\u2588\u2588\u2588\u2588\u2588\u258f    | 185.3MB 3.1MB/s eta 0:00:11     |\u2588\u2588\u2588\u2588\u2588\u2588\u2588\u2588\u2588\u2588\u2588\u2588\u2588\u2588\u2588\u2588\u2588\u2588\u2588\u2588\u2588\u2588\u2588\u2588\u2588\u2588\u2588\u258a    | 188.6MB 3.1MB/s eta 0:00:10\ufffd\ufffd\u2588\u2588\u2588\u2588\u2588\u2588\u2588\u2588\u2588\u2588\u2588\u2588\u2588\u2588\u2588\u2588\u2588\u2588\u2588\u2588\u2588\u2588\u2588\u2588\u2588\u258d  | 199.7MB 10.2MB/s eta 0:00:02\n\u001b[?25hCollecting py4j==0.10.7 (from pyspark==2.4.5)\n\u001b[?25l  Downloading https://files.pythonhosted.org/packages/e3/53/c737818eb9a7dc32a7cd4f1396e787bd94200c3997c72c1dbe028587bd76/py4j-0.10.7-py2.py3-none-any.whl (197kB)\n\u001b[K     |\u2588\u2588\u2588\u2588\u2588\u2588\u2588\u2588\u2588\u2588\u2588\u2588\u2588\u2588\u2588\u2588\u2588\u2588\u2588\u2588\u2588\u2588\u2588\u2588\u2588\u2588\u2588\u2588\u2588\u2588\u2588\u2588| 204kB 20.3MB/s eta 0:00:01\n\u001b[?25hBuilding wheels for collected packages: pyspark\n  Building wheel for pyspark (setup.py) ... \u001b[?25ldone\n\u001b[?25h  Stored in directory: /home/dsxuser/.cache/pip/wheels/bf/db/04/61d66a5939364e756eb1c1be4ec5bdce6e04047fc7929a3c3c\nSuccessfully built pyspark\nInstalling collected packages: py4j, pyspark\nSuccessfully installed py4j-0.10.7 pyspark-2.4.5\n"
                }
            ],
            "source": "!pip install pyspark==2.4.5"
        },
        {
            "cell_type": "code",
            "execution_count": 3,
            "metadata": {},
            "outputs": [],
            "source": "try:\n    from pyspark import SparkContext, SparkConf\n    from pyspark.sql import SparkSession\nexcept ImportError as e:\n    printmd('<<<<<!!!!! Please restart your kernel after installing Apache Spark !!!!!>>>>>')"
        },
        {
            "cell_type": "code",
            "execution_count": 4,
            "metadata": {},
            "outputs": [],
            "source": "sc = SparkContext.getOrCreate(SparkConf().setMaster(\"local[*]\"))\n\nspark = SparkSession \\\n    .builder \\\n    .getOrCreate()"
        },
        {
            "cell_type": "code",
            "execution_count": 5,
            "metadata": {},
            "outputs": [
                {
                    "name": "stdout",
                    "output_type": "stream",
                    "text": "--2020-07-01 20:32:12--  https://github.com/IBM/coursera/raw/master/coursera_ml/a2.parquet\nResolving github.com (github.com)... 140.82.114.3\nConnecting to github.com (github.com)|140.82.114.3|:443... connected.\nHTTP request sent, awaiting response... 301 Moved Permanently\nLocation: https://github.com/IBM/skillsnetwork/raw/master/coursera_ml/a2.parquet [following]\n--2020-07-01 20:32:12--  https://github.com/IBM/skillsnetwork/raw/master/coursera_ml/a2.parquet\nReusing existing connection to github.com:443.\nHTTP request sent, awaiting response... 302 Found\nLocation: https://raw.githubusercontent.com/IBM/skillsnetwork/master/coursera_ml/a2.parquet [following]\n--2020-07-01 20:32:13--  https://raw.githubusercontent.com/IBM/skillsnetwork/master/coursera_ml/a2.parquet\nResolving raw.githubusercontent.com (raw.githubusercontent.com)... 199.232.8.133\nConnecting to raw.githubusercontent.com (raw.githubusercontent.com)|199.232.8.133|:443... connected.\nHTTP request sent, awaiting response... 200 OK\nLength: 59032 (58K) [application/octet-stream]\nSaving to: \u2018a2.parquet\u2019\n\n100%[======================================>] 59,032      --.-K/s   in 0.003s  \n\n2020-07-01 20:32:13 (21.9 MB/s) - \u2018a2.parquet\u2019 saved [59032/59032]\n\n"
                }
            ],
            "source": "!wget https://github.com/IBM/coursera/raw/master/coursera_ml/a2.parquet"
        },
        {
            "cell_type": "code",
            "execution_count": 6,
            "metadata": {},
            "outputs": [
                {
                    "name": "stdout",
                    "output_type": "stream",
                    "text": "+-----+-----------+-------------------+-------------------+-------------------+\n|CLASS|   SENSORID|                  X|                  Y|                  Z|\n+-----+-----------+-------------------+-------------------+-------------------+\n|    0|         26| 380.66434005495194| -139.3470983812975|-247.93697521077704|\n|    0|         29| 104.74324299209692| -32.27421440203938|-25.105013725863852|\n|    0| 8589934658| 118.11469236129976| 45.916682927433534| -87.97203782706572|\n|    0|34359738398| 246.55394030642543|-0.6122810693132044|-398.18662513951506|\n|    0|17179869241|-190.32584900181487|  234.7849657520335|-206.34483804019288|\n|    0|25769803830| 178.62396382387422| -47.07529438881511|  84.38310769821979|\n|    0|25769803831|  85.03128805189493|-4.3024316644854546|-1.1841857567516714|\n|    0|34359738411| 26.786262674736566| -46.33193951911338| 20.880756008396055|\n|    0| 8589934592|-16.203752396859194| 51.080957032176954| -96.80526656416971|\n|    0|25769803852|   47.2048142440404|  -78.2950899652916| 181.99604091494786|\n|    0|34359738369| 15.608872398939273| -79.90322809181754|  69.62150711098005|\n|    0|         19|-4.8281721129789315| -67.38050508399905| 221.24876396496404|\n|    0|         54| -98.40725712852762|-19.989364074314732|  -302.695196085276|\n|    0|17179869313| 22.835845394816594|   17.1633660118843| 32.877914832011385|\n|    0|34359738454|  84.20178070080324| -32.81572075916947| -48.63517643958031|\n|    0|          0|  56.54732521345129| -7.980106018032676|  95.05162719436447|\n|    0|17179869201|  -57.6008655247749|  5.135393798773895| 236.99158698947267|\n|    0|17179869308| -65.59264738389012| -48.92660057215126| -61.58970715383383|\n|    0|25769803790|  34.82337351291005|  9.483542084393937|  197.6066372962772|\n|    0|25769803825|  39.80573823439121|-0.7955236412785212| -79.66652640650325|\n+-----+-----------+-------------------+-------------------+-------------------+\nonly showing top 20 rows\n\n"
                }
            ],
            "source": "df=spark.read.load('a2.parquet')\n\ndf.createOrReplaceTempView(\"df\")\nspark.sql(\"SELECT * from df\").show()"
        },
        {
            "cell_type": "code",
            "execution_count": 87,
            "metadata": {},
            "outputs": [],
            "source": "\nfrom pyspark.ml.feature import VectorAssembler\nvectorAssembler = VectorAssembler(inputCols=[\"X\", \"Y\",\"Z\"], outputCol=\"features\")"
        },
        {
            "cell_type": "code",
            "execution_count": 102,
            "metadata": {},
            "outputs": [],
            "source": "from pyspark.ml.classification import GBTClassifier\nfrom pyspark.ml.feature import StringIndexer\nfrom pyspark.ml.feature import Normalizer\n\nindexer = StringIndexer(inputCol=\"CLASS\", outputCol=\"label\")\nnormalizer = Normalizer(inputCol = \"features\", outputCol=\"features_norm\", p=2.0)\n\nclassifier = GBTClassifier(labelCol=\"label\", featuresCol='features', maxIter=10)"
        },
        {
            "cell_type": "code",
            "execution_count": 103,
            "metadata": {},
            "outputs": [],
            "source": "\nfrom pyspark.ml import Pipeline\npipeline = Pipeline(stages=[indexer, vectorAssembler, normalizer, classifier])"
        },
        {
            "cell_type": "code",
            "execution_count": 104,
            "metadata": {},
            "outputs": [
                {
                    "name": "stderr",
                    "output_type": "stream",
                    "text": "Exception ignored in: <object repr() failed>\nTraceback (most recent call last):\n  File \"/opt/conda/envs/Python36/lib/python3.6/site-packages/pyspark/ml/wrapper.py\", line 40, in __del__\n    if SparkContext._active_spark_context and self._java_obj is not None:\nAttributeError: 'GBTClassifier' object has no attribute '_java_obj'\n"
                }
            ],
            "source": "model = pipeline.fit(df)"
        },
        {
            "cell_type": "code",
            "execution_count": 105,
            "metadata": {},
            "outputs": [
                {
                    "name": "stdout",
                    "output_type": "stream",
                    "text": "+-----+-----------+-------------------+-------------------+-------------------+-----+--------------------+--------------------+--------------------+--------------------+----------+\n|CLASS|   SENSORID|                  X|                  Y|                  Z|label|            features|       features_norm|       rawPrediction|         probability|prediction|\n+-----+-----------+-------------------+-------------------+-------------------+-----+--------------------+--------------------+--------------------+--------------------+----------+\n|    0|         26| 380.66434005495194| -139.3470983812975|-247.93697521077704|  0.0|[380.664340054951...|[0.80109563224356...|[1.32589766213010...|[0.93412155816733...|       0.0|\n|    0|         29| 104.74324299209692| -32.27421440203938|-25.105013725863852|  0.0|[104.743242992096...|[0.93153755965820...|[1.32589766213010...|[0.93412155816733...|       0.0|\n|    0| 8589934658| 118.11469236129976| 45.916682927433534| -87.97203782706572|  0.0|[118.114692361299...|[0.76564793354473...|[1.32680169324328...|[0.93423273625928...|       0.0|\n|    0|34359738398| 246.55394030642543|-0.6122810693132044|-398.18662513951506|  0.0|[246.553940306425...|[0.52644285694167...|[1.32711813715030...|[0.93427161142354...|       0.0|\n|    0|17179869241|-190.32584900181487|  234.7849657520335|-206.34483804019288|  0.0|[-190.32584900181...|[-0.5200740241726...|[1.32590267922033...|[0.93412217565278...|       0.0|\n|    0|25769803830| 178.62396382387422| -47.07529438881511|  84.38310769821979|  0.0|[178.623963823874...|[0.87955703232704...|[1.32589766213010...|[0.93412155816733...|       0.0|\n|    0|25769803831|  85.03128805189493|-4.3024316644854546|-1.1841857567516714|  0.0|[85.0312880518949...|[0.99862577480493...|[1.32621410603712...|[0.93416049441777...|       0.0|\n|    0|34359738411| 26.786262674736566| -46.33193951911338| 20.880756008396055|  0.0|[26.7862626747365...|[0.46627778711077...|[1.32589766213010...|[0.93412155816733...|       0.0|\n|    0| 8589934592|-16.203752396859194| 51.080957032176954| -96.80526656416971|  0.0|[-16.203752396859...|[-0.1464435198664...|[1.32590267922033...|[0.93412217565278...|       0.0|\n|    0|25769803852|   47.2048142440404|  -78.2950899652916| 181.99604091494786|  0.0|[47.2048142440404...|[0.23177245322521...|[1.32589955669978...|[0.93412179134479...|       0.0|\n|    0|34359738369| 15.608872398939273| -79.90322809181754|  69.62150711098005|  0.0|[15.6088723989392...|[0.14570994167786...|[1.32590267922033...|[0.93412217565278...|       0.0|\n|    0|         19|-4.8281721129789315| -67.38050508399905| 221.24876396496404|  0.0|[-4.8281721129789...|[-0.0208711881188...|[1.32396579485090...|[0.93388339065422...|       0.0|\n|    0|         54| -98.40725712852762|-19.989364074314732|  -302.695196085276|  0.0|[-98.407257128527...|[-0.3085671490844...|[1.32590267922033...|[0.93412217565278...|       0.0|\n|    0|17179869313| 22.835845394816594|   17.1633660118843| 32.877914832011385|  0.0|[22.8358453948165...|[0.52430234151656...|[1.32590267922033...|[0.93412217565278...|       0.0|\n|    0|34359738454|  84.20178070080324| -32.81572075916947| -48.63517643958031|  0.0|[84.2017807008032...|[0.82046847095316...|[1.32589766213010...|[0.93412155816733...|       0.0|\n|    0|          0|  56.54732521345129| -7.980106018032676|  95.05162719436447|  0.0|[56.5473252134512...|[0.50995103917099...|[1.32589766213010...|[0.93412155816733...|       0.0|\n|    0|17179869201|  -57.6008655247749|  5.135393798773895| 236.99158698947267|  0.0|[-57.600865524774...|[-0.2361221840945...|[1.33122144395126...|[0.93477377205806...|       0.0|\n|    0|17179869308| -65.59264738389012| -48.92660057215126| -61.58970715383383|  0.0|[-65.592647383890...|[-0.6404390035882...|[1.32590267922033...|[0.93412217565278...|       0.0|\n|    0|25769803790|  34.82337351291005|  9.483542084393937|  197.6066372962772|  0.0|[34.8233735129100...|[0.17335794673008...|[1.51228073545265...|[0.95367147883022...|       0.0|\n|    0|25769803825|  39.80573823439121|-0.7955236412785212| -79.66652640650325|  0.0|[39.8057382343912...|[0.44694849161308...|[1.32711813715030...|[0.93427161142354...|       0.0|\n+-----+-----------+-------------------+-------------------+-------------------+-----+--------------------+--------------------+--------------------+--------------------+----------+\nonly showing top 20 rows\n\n"
                }
            ],
            "source": "prediction = model.transform(df)\nprediction.show()"
        },
        {
            "cell_type": "code",
            "execution_count": 106,
            "metadata": {},
            "outputs": [
                {
                    "data": {
                        "text/plain": "0.9986850756081526"
                    },
                    "execution_count": 106,
                    "metadata": {},
                    "output_type": "execute_result"
                }
            ],
            "source": "from pyspark.ml.evaluation import MulticlassClassificationEvaluator\nbinEval = MulticlassClassificationEvaluator().setMetricName(\"accuracy\") .setPredictionCol(\"prediction\").setLabelCol(\"CLASS\")\n    \nbinEval.evaluate(prediction)"
        },
        {
            "cell_type": "code",
            "execution_count": 107,
            "metadata": {},
            "outputs": [],
            "source": "!rm -Rf a2_m2.json"
        },
        {
            "cell_type": "code",
            "execution_count": 108,
            "metadata": {},
            "outputs": [],
            "source": "prediction = prediction.repartition(1)\nprediction.write.json('a2_m2.json')"
        },
        {
            "cell_type": "code",
            "execution_count": 109,
            "metadata": {},
            "outputs": [
                {
                    "name": "stdout",
                    "output_type": "stream",
                    "text": "--2020-07-01 21:16:07--  https://raw.githubusercontent.com/IBM/coursera/master/rklib.py\nResolving raw.githubusercontent.com (raw.githubusercontent.com)... 151.101.48.133\nConnecting to raw.githubusercontent.com (raw.githubusercontent.com)|151.101.48.133|:443... connected.\nHTTP request sent, awaiting response... 200 OK\nLength: 2540 (2.5K) [text/plain]\nSaving to: \u2018rklib.py\u2019\n\n100%[======================================>] 2,540       --.-K/s   in 0s      \n\n2020-07-01 21:16:08 (17.3 MB/s) - \u2018rklib.py\u2019 saved [2540/2540]\n\n"
                }
            ],
            "source": "!rm -f rklib.py\n!wget https://raw.githubusercontent.com/IBM/coursera/master/rklib.py"
        },
        {
            "cell_type": "code",
            "execution_count": 110,
            "metadata": {},
            "outputs": [],
            "source": "import zipfile\nimport os\n\ndef zipdir(path, ziph):\n    for root, dirs, files in os.walk(path):\n        for file in files:\n            ziph.write(os.path.join(root, file))\n\nzipf = zipfile.ZipFile('a2_m2.json.zip', 'w', zipfile.ZIP_DEFLATED)\nzipdir('a2_m2.json', zipf)\nzipf.close()"
        },
        {
            "cell_type": "code",
            "execution_count": 111,
            "metadata": {},
            "outputs": [],
            "source": "!base64 a2_m2.json.zip > a2_m2.json.zip.base64"
        },
        {
            "cell_type": "code",
            "execution_count": null,
            "metadata": {},
            "outputs": [],
            "source": "from rklib import submit\nkey = \"J3sDL2J8EeiaXhILFWw2-g\"\npart = \"G4P6f\"\nemail = \"kuangyue@umich.edu\"\ntoken = \"J66kLzjKVZNhn5m2\" # (have a look here if you need more information on how to obtain the token https://youtu.be/GcDo0Rwe06U?t=276)\n\nwith open('a2_m2.json.zip.base64', 'r') as myfile:\n    data=myfile.read()\nsubmit(email, token, key, part, [part], data)"
        }
    ],
    "metadata": {
        "kernelspec": {
            "display_name": "Python 3.6",
            "language": "python",
            "name": "python3"
        },
        "language_info": {
            "codemirror_mode": {
                "name": "ipython",
                "version": 3
            },
            "file_extension": ".py",
            "mimetype": "text/x-python",
            "name": "python",
            "nbconvert_exporter": "python",
            "pygments_lexer": "ipython3",
            "version": "3.6.9"
        }
    },
    "nbformat": 4,
    "nbformat_minor": 1
}